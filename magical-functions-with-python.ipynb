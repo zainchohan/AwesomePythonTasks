{
 "cells": [
  {
   "cell_type": "code",
   "execution_count": 309,
   "id": "976d37bc",
   "metadata": {},
   "outputs": [
    {
     "name": "stdout",
     "output_type": "stream",
     "text": [
      "--- Welcome to the Guessing Game! ---\n",
      "Guess the secret number (between 1 and 50) :30\n",
      "Try again! Your guess is too high. You have 4 attempts left.\n",
      "Guess the secret number (between 1 and 50) :20\n",
      "Try again! Your guess is too low. You have 3 attempts left.\n",
      "Guess the secret number (between 1 and 50) :25\n",
      "Try again! Your guess is too low. You have 2 attempts left.\n",
      "Guess the secret number (between 1 and 50) :27\n",
      "Try again! Your guess is too high. You have 1 attempts left.\n",
      "Guess the secret number (between 1 and 50) :26\n",
      "Congratulations! You guessed the secret number  5 correctly!\n"
     ]
    }
   ],
   "source": [
    "#Simulate a simple guessing game\n",
    "import random\n",
    "\n",
    "i = 0\n",
    "max_val = 5\n",
    "secret_number = random.randint(1, 50)  # Generates a random number between 1 and 50\n",
    "\n",
    "print(\"--- Welcome to the Guessing Game! ---\")\n",
    "while i < max_val:\n",
    "    try:    \n",
    "        \n",
    "        user_guess = int(input(\"Guess the secret number (between 1 and 50) :\"))\n",
    "        \n",
    "        i += 1\n",
    "        \n",
    "        x = max_val - i\n",
    "        \n",
    "        if user_guess < secret_number:\n",
    "            print(\"Try again! Your guess is too low. You have\" , x , \"attempts left.\")\n",
    "            continue \n",
    "        elif user_guess > secret_number:\n",
    "            print(\"Try again! Your guess is too high. You have\" , x , \"attempts left.\")\n",
    "            continue\n",
    "        elif user_guess == secret_number:\n",
    "            print(\"Congratulations! You guessed the secret number\", i , \"correctly!\")\n",
    "            break\n",
    "    except ValueError:\n",
    "        print(\"Invalid input! Please enter a valid number.\")   \n",
    "\n",
    "if i == max_val and user_guess != secret_number:\n",
    "    print(\"Game Over! The secret number was \", secret_number , \"Better luck next time!\" )\n"
   ]
  },
  {
   "cell_type": "code",
   "execution_count": 301,
   "id": "3b15748d",
   "metadata": {},
   "outputs": [
    {
     "name": "stdout",
     "output_type": "stream",
     "text": [
      "10\n"
     ]
    }
   ],
   "source": [
    "#Test 2\n",
    "#a)\tWrite a function called num_vowels that takes in a string as an argument, and returns the number of vowels in that string. \n",
    "def num_vowel(string):\n",
    "    text = \"Learning Python is fun and engaging.\"\n",
    "    count = 0\n",
    "    for char_val in text:\n",
    "        if char_val in 'aeiouAEIOUS':\n",
    "            count += 1\n",
    "    return count\n",
    "    \n",
    "#Store the result\n",
    "result = num_vowel(\"\")\n",
    "print(result)"
   ]
  },
  {
   "cell_type": "code",
   "execution_count": 310,
   "id": "c733df40",
   "metadata": {},
   "outputs": [
    {
     "name": "stdout",
     "output_type": "stream",
     "text": [
      "Enter the number of hours: 2.5\n",
      "Result in Minutes : 150.0\n"
     ]
    }
   ],
   "source": [
    "#b)\tCreate a function called hours_to_min that converts hours into minutes. \n",
    "def num_hour(hour):\n",
    "    min = hour * 60\n",
    "    return min\n",
    "\n",
    "y = float(input(\"Enter the number of hours: \"))\n",
    "result_hours = num_hour(y)\n",
    "\n",
    "print(\"Result in Minutes :\", result_hours)"
   ]
  },
  {
   "cell_type": "code",
   "execution_count": 307,
   "id": "e3a528d2",
   "metadata": {},
   "outputs": [
    {
     "name": "stdout",
     "output_type": "stream",
     "text": [
      "1 * 8 = 8\n",
      "2 * 8 = 16\n",
      "3 * 8 = 24\n",
      "4 * 8 = 32\n",
      "5 * 8 = 40\n",
      "6 * 8 = 48\n",
      "7 * 8 = 56\n",
      "8 * 8 = 64\n",
      "9 * 8 = 72\n",
      "10 * 8 = 80\n",
      "11 * 8 = 88\n",
      "12 * 8 = 96\n"
     ]
    }
   ],
   "source": [
    "def multi_fun(j):\n",
    "    for i in range(1,13):\n",
    "        print(i, \"*\", j, \"=\", i*j)\n",
    "        i+=1\n",
    "        \n",
    "     #Multiple with 8 table   \n",
    "    \n",
    "multi_fun(8)\n"
   ]
  },
  {
   "cell_type": "code",
   "execution_count": 311,
   "id": "a578c28a",
   "metadata": {},
   "outputs": [
    {
     "name": "stdout",
     "output_type": "stream",
     "text": [
      "True\n",
      "False\n"
     ]
    }
   ],
   "source": [
    "# d) Calculate age with GPA for Admission\n",
    "def gpa_cal(age, gpa):\n",
    "    \n",
    "    if age >= 18 and gpa >= 3.0:\n",
    "        return True     \n",
    "    else:\n",
    "        return False       \n",
    "\n",
    "# case 1\n",
    "res = gpa_cal(30, 3.2)\n",
    "\n",
    "# case 2\n",
    "res2 = gpa_cal(gpa=2.9, age=40)\n",
    "\n",
    "print(res)\n",
    "print(res2)\n"
   ]
  },
  {
   "cell_type": "code",
   "execution_count": null,
   "id": "db116852",
   "metadata": {},
   "outputs": [],
   "source": []
  }
 ],
 "metadata": {
  "kernelspec": {
   "display_name": "Python 3 (ipykernel)",
   "language": "python",
   "name": "python3"
  },
  "language_info": {
   "codemirror_mode": {
    "name": "ipython",
    "version": 3
   },
   "file_extension": ".py",
   "mimetype": "text/x-python",
   "name": "python",
   "nbconvert_exporter": "python",
   "pygments_lexer": "ipython3",
   "version": "3.11.5"
  }
 },
 "nbformat": 4,
 "nbformat_minor": 5
}
